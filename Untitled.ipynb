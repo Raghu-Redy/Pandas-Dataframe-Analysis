{
 "cells": [
  {
   "cell_type": "code",
   "execution_count": null,
   "id": "138d7add",
   "metadata": {},
   "outputs": [],
   "source": []
  },
  {
   "cell_type": "code",
   "execution_count": 11,
   "id": "32617fd4",
   "metadata": {},
   "outputs": [
    {
     "name": "stdout",
     "output_type": "stream",
     "text": [
      "                     Rank  Average Statements  Average Reasons  Sum of Avg\n",
      "Team Name                                                                 \n",
      "Winning Culture Lab     1               12.67            16.00       28.67\n",
      "Tech Lab                2                9.00            10.00       19.00\n",
      "Mentor                  3                7.33             7.67       15.00\n",
      "BrandTech Lab           4                7.00             7.00       14.00\n",
      "Student Unicorn Lab     5                7.33             6.33       13.66\n",
      "Growpital               6                5.00             5.67       10.67\n",
      "Kringle                 7                4.50             4.50        9.00\n",
      "Human Capital Lab       8                2.00             4.50        6.50\n",
      "Brandtech Lab           9                2.00             4.00        6.00\n"
     ]
    }
   ],
   "source": [
    "import pandas as pd\n",
    "\n",
    "# Load the csv file into a pandas dataframe\n",
    "df = pd.read_csv('Book5.csv')\n",
    "\n",
    "# Calculate the average statements and reasons for each team and round the results to 2 decimal points\n",
    "team_df = df.groupby('Team Name').agg({'total_statements': 'mean', 'total_reasons': 'mean'}).round(2)\n",
    "\n",
    "# Calculate the sum of average statements and reasons for each team and round the result to 2 decimal points\n",
    "team_df['Sum of Avg'] = team_df['total_statements'] + team_df['total_reasons']\n",
    "team_df['Sum of Avg'] = team_df['Sum of Avg'].round(2)\n",
    "\n",
    "# Sort the dataframe by the sum of average statements and reasons in descending order\n",
    "team_df = team_df.sort_values('Sum of Avg', ascending=False)\n",
    "\n",
    "# Create a new column named \"Rank\" based on the sorted order\n",
    "team_df['Rank'] = team_df.reset_index().index + 1\n",
    "\n",
    "# Reorder the columns\n",
    "team_df = team_df[['Rank', 'total_statements', 'total_reasons', 'Sum of Avg']]\n",
    "\n",
    "# Rename the columns\n",
    "team_df = team_df.rename(columns={'total_statements': 'Average Statements', 'total_reasons': 'Average Reasons'})\n",
    "\n",
    "# Print the final dataframe\n",
    "# print('Team Wise Leaderboard\\n')\n",
    "print(team_df)\n"
   ]
  },
  {
   "cell_type": "code",
   "execution_count": null,
   "id": "d3aa67e2",
   "metadata": {},
   "outputs": [],
   "source": []
  },
  {
   "cell_type": "code",
   "execution_count": null,
   "id": "72ede785",
   "metadata": {},
   "outputs": [],
   "source": []
  },
  {
   "cell_type": "code",
   "execution_count": null,
   "id": "e920f348",
   "metadata": {},
   "outputs": [],
   "source": []
  }
 ],
 "metadata": {
  "kernelspec": {
   "display_name": "Python 3 (ipykernel)",
   "language": "python",
   "name": "python3"
  },
  "language_info": {
   "codemirror_mode": {
    "name": "ipython",
    "version": 3
   },
   "file_extension": ".py",
   "mimetype": "text/x-python",
   "name": "python",
   "nbconvert_exporter": "python",
   "pygments_lexer": "ipython3",
   "version": "3.9.13"
  }
 },
 "nbformat": 4,
 "nbformat_minor": 5
}
