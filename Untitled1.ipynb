{
 "cells": [
  {
   "cell_type": "code",
   "execution_count": 4,
   "id": "0300aabd",
   "metadata": {},
   "outputs": [
    {
     "name": "stdout",
     "output_type": "stream",
     "text": [
      "    Rank           Name   UID  No. of Statements  No. of Reasons\n",
      "10     1        Ronak 0   302                 16              19\n",
      "0      2      Soumita M   280                 13              21\n",
      "1      3     Subhangi 0    75                 13              16\n",
      "3      4         Merwin   295                 13              12\n",
      "2      5    Nitin Shane  1124                 12              11\n",
      "15     6         Ayisha  3406                 11               8\n",
      "7      7       imshawan    71                  9               9\n",
      "9      8        sharath  3367                  8               8\n",
      "8      9   Anuraj_Saini   342                  7               7\n",
      "20    10       devmenkr   360                  7               7\n",
      "12    11        Saurabh   271                  6               8\n",
      "16    12         Palash    69                  6               7\n",
      "17    13          raman   539                  5               5\n",
      "18    14        Nishant   299                  4               5\n",
      "6     15    Rohit Dutta   266                  3               3\n",
      "13    16    darshimalde  3169                  3               3\n",
      "5     17  __riddhi_213_   504                  2               7\n",
      "11    18  Amrit Malviya   336                  2               4\n",
      "4     19  fardinkamal62   263                  2               2\n",
      "14    20         Shagun   100                  2               2\n",
      "19    21         Vatsal  3408                  2               2\n"
     ]
    }
   ],
   "source": [
    "import pandas as pd\n",
    "\n",
    "# Load the csv file into a pandas dataframe\n",
    "df = pd.read_csv('Book4.csv')\n",
    "\n",
    "# Rename the columns to match the column names in the csv file\n",
    "df = df.rename(columns={'name': 'Name', 'uid': 'UID', 'total_statements': 'No. of Statements', 'total_reasons': 'No. of Reasons'})\n",
    "\n",
    "# Sort the dataframe by No. of Statements and No. of Reasons in descending order\n",
    "df = df.sort_values(['No. of Statements', 'No. of Reasons'], ascending=[False, False])\n",
    "\n",
    "# Create a new column named \"Rank\" based on the sorted order\n",
    "df['Rank'] = df.reset_index().index + 1\n",
    "\n",
    "# Reorder the columns\n",
    "df = df[['Rank', 'Name', 'UID', 'No. of Statements', 'No. of Reasons']]\n",
    "\n",
    "# Print the final dataframe\n",
    "print(df)\n"
   ]
  },
  {
   "cell_type": "code",
   "execution_count": null,
   "id": "df79a112",
   "metadata": {},
   "outputs": [],
   "source": []
  },
  {
   "cell_type": "code",
   "execution_count": null,
   "id": "9359dc52",
   "metadata": {},
   "outputs": [],
   "source": []
  },
  {
   "cell_type": "code",
   "execution_count": null,
   "id": "ca3ed554",
   "metadata": {},
   "outputs": [],
   "source": []
  }
 ],
 "metadata": {
  "kernelspec": {
   "display_name": "Python 3 (ipykernel)",
   "language": "python",
   "name": "python3"
  },
  "language_info": {
   "codemirror_mode": {
    "name": "ipython",
    "version": 3
   },
   "file_extension": ".py",
   "mimetype": "text/x-python",
   "name": "python",
   "nbconvert_exporter": "python",
   "pygments_lexer": "ipython3",
   "version": "3.9.13"
  }
 },
 "nbformat": 4,
 "nbformat_minor": 5
}
